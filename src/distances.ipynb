{
 "cells": [
  {
   "cell_type": "code",
   "execution_count": 110,
   "metadata": {},
   "outputs": [],
   "source": [
    "from keras.models import load_model\n",
    "import numpy as np, csv, matplotlib.pyplot as plt, random\n",
    "from keras import backend as K\n",
    "\n",
    "WORDS_COUNT = 113385\n",
    "EPOCHS = 3"
   ]
  },
  {
   "cell_type": "code",
   "execution_count": 111,
   "metadata": {},
   "outputs": [],
   "source": [
    "model = load_model('{0} [{1}].hd5'.format(WORDS_COUNT, EPOCHS))"
   ]
  },
  {
   "cell_type": "code",
   "execution_count": 112,
   "metadata": {},
   "outputs": [],
   "source": [
    "def get_vectors(kfunc, getting):\n",
    "    print(\"Getting {0} from file\".format(getting))\n",
    "    items = {}\n",
    "    ids = []\n",
    "    with open(\"{0}.{1}.csv\".format(str(WORDS_COUNT), getting)) as fd:\n",
    "        reader = csv.reader(fd)\n",
    "        for i, w in reader:\n",
    "            items[i] = w\n",
    "            ids.append([i])\n",
    "    ids = np.asarray(ids)\n",
    "    print(\"Done!\")\n",
    "    print(\"Getting vectors\")\n",
    "    temp = kfunc([ids])[0]\n",
    "    for i, v in zip(ids, temp):\n",
    "        i, v = i[0], (v[0] if getting == 'words' else v)\n",
    "        items[i] = (items[i], v)\n",
    "    print(\"Done!\")\n",
    "    return items\n",
    "\n",
    "\n",
    "def get_words_vectors():\n",
    "    kfunc = K.function(\n",
    "        [model.layers[1].input],\n",
    "        [model.layers[3].get_output_at(0)]\n",
    "    )\n",
    "\n",
    "    return get_vectors(kfunc, 'words')\n",
    "\n",
    "def get_rels_vectors():\n",
    "    kfunc = K.function(\n",
    "        [model.layers[0].input],\n",
    "        [model.layers[4].output]\n",
    "    )\n",
    "    \n",
    "    return get_vectors(kfunc, 'rels')\n",
    "\n",
    "from math import sqrt\n",
    "def distance(v1, v2):\n",
    "    acum=0\n",
    "    for x,y in zip(v1,v2):\n",
    "        acum+= (x-y)**2\n",
    "    return sqrt(acum)"
   ]
  },
  {
   "cell_type": "code",
   "execution_count": 113,
   "metadata": {},
   "outputs": [
    {
     "name": "stdout",
     "output_type": "stream",
     "text": [
      "Getting words from file\n",
      "Done!\n",
      "Getting vectors\n",
      "Done!\n"
     ]
    }
   ],
   "source": [
    "words_vectors = get_words_vectors()"
   ]
  },
  {
   "cell_type": "code",
   "execution_count": 114,
   "metadata": {},
   "outputs": [],
   "source": [
    "data = np.genfromtxt(str(WORDS_COUNT) + '.set', dtype=('<U2'))"
   ]
  },
  {
   "cell_type": "code",
   "execution_count": 115,
   "metadata": {},
   "outputs": [],
   "source": [
    "STEP=.25\n",
    "dist_w = np.asarray([0]*int(4/STEP))\n",
    "dist_n = np.asarray([0]*int(4/STEP))\n",
    "for w1,r,w2,v in data:#[d for d in data if d[1] == \"0\"]:\n",
    "    d = distance(words_vectors[w1][1], words_vectors[w2][1])\n",
    "    dest = dist_w if v == \"1\" else dist_n\n",
    "    dest[int(d/STEP)]+=1\n"
   ]
  },
  {
   "cell_type": "code",
   "execution_count": 116,
   "metadata": {},
   "outputs": [],
   "source": [
    "DEG=8\n",
    "X = np.arange(0.5,4.5,STEP)\n",
    "pol_w = np.polyfit(X, dist_w, DEG)\n",
    "pol_n = np.polyfit(X, dist_n, DEG)\n",
    "\n",
    "W1 = np.polyval(pol_w, X)\n",
    "N1 = np.polyval(pol_n, X)\n"
   ]
  },
  {
   "cell_type": "code",
   "execution_count": 117,
   "metadata": {},
   "outputs": [
    {
     "data": {
      "image/png": "[encoded data removed]",
      "text/plain": [
       "<Figure size 432x288 with 1 Axes>"
      ]
     },
     "metadata": {},
     "output_type": "display_data"
    }
   ],
   "source": [
    "plt.plot(X, W1, label='WordNet')\n",
    "plt.plot(X, N1, label='Ruido')\n",
    "plt.title(\"Distancias entre palabras por tripletas\")\n",
    "plt.legend()\n",
    "plt.savefig('distances-syn.png')"
   ]
  },
  {
   "cell_type": "code",
   "execution_count": null,
   "metadata": {},
   "outputs": [],
   "source": []
  }
 ],
 "metadata": {
  "kernelspec": {
   "display_name": "Python 3",
   "language": "python",
   "name": "python3"
  },
  "language_info": {
   "codemirror_mode": {
    "name": "ipython",
    "version": 3
   },
   "file_extension": ".py",
   "mimetype": "text/x-python",
   "name": "python",
   "nbconvert_exporter": "python",
   "pygments_lexer": "ipython3",
   "version": "3.6.5"
  }
 },
 "nbformat": 4,
 "nbformat_minor": 2
}
