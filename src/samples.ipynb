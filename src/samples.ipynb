{
 "cells": [
  {
   "cell_type": "code",
   "execution_count": 1,
   "metadata": {},
   "outputs": [
    {
     "name": "stderr",
     "output_type": "stream",
     "text": [
      "/home/aryan/.local/lib/python3.6/site-packages/h5py/__init__.py:36: FutureWarning: Conversion of the second argument of issubdtype from `float` to `np.floating` is deprecated. In future, it will be treated as `np.float64 == np.dtype(float).type`.\n",
      "  from ._conv import register_converters as _register_converters\n",
      "Using TensorFlow backend.\n"
     ]
    }
   ],
   "source": [
    "import matplotlib.pyplot as plt\n",
    "import numpy as np, csv\n",
    "from keras.models import load_model\n",
    "from keras import backend as K"
   ]
  },
  {
   "cell_type": "code",
   "execution_count": 2,
   "metadata": {},
   "outputs": [],
   "source": [
    "WORDS_COUNT=133778\n",
    "EPOCHS=3\n",
    "\n",
    "model = load_model(\"{0} [{1}].hd5\".format(WORDS_COUNT, EPOCHS))"
   ]
  },
  {
   "cell_type": "code",
   "execution_count": 3,
   "metadata": {},
   "outputs": [],
   "source": [
    "def get_vectors(kfunc, getting):\n",
    "    print(\"Getting {0} from file\".format(getting))\n",
    "    items = {}\n",
    "    ids = []\n",
    "    with open(\"{0}.{1}.csv\".format(str(WORDS_COUNT), getting)) as fd:\n",
    "        reader = csv.reader(fd)\n",
    "        for i, w in reader:\n",
    "            items[i] = w\n",
    "            ids.append([i])\n",
    "    ids = np.asarray(ids)\n",
    "    print(\"Done!\")\n",
    "    print(\"Getting vectors\")\n",
    "    temp = kfunc([ids])[0]\n",
    "    for i, v in zip(ids, temp):\n",
    "        i, v = i[0], (v[0] if getting == 'words' else v)\n",
    "        items[i] = (items[i], v)\n",
    "    print(\"Done!\")\n",
    "    return items\n",
    "\n",
    "\n",
    "def get_words_vectors():\n",
    "    kfunc = K.function(\n",
    "        [model.layers[1].input],\n",
    "        [model.layers[3].get_output_at(0)]\n",
    "    )\n",
    "\n",
    "    return get_vectors(kfunc, 'words')\n",
    "\n",
    "def get_rels_vectors():\n",
    "    kfunc = K.function(\n",
    "        [model.layers[0].input],\n",
    "        [model.layers[4].output]\n",
    "    )\n",
    "    \n",
    "    return get_vectors(kfunc, 'rels')"
   ]
  },
  {
   "cell_type": "code",
   "execution_count": 4,
   "metadata": {},
   "outputs": [],
   "source": [
    "wdata = {}\n",
    "ndata = {}\n",
    "data = np.genfromtxt(str(WORDS_COUNT) + '.set', dtype=('<U2'))\n",
    "\n",
    "for d in data:\n",
    "    if d[1] not in wdata:\n",
    "        wdata[d[1]] = []\n",
    "    if d[1] not in ndata:\n",
    "        ndata[d[1]] = []\n",
    "    temp = wdata if d[3]==\"1\" else ndata\n",
    "    temp[d[1]].append(tuple(d))\n"
   ]
  },
  {
   "cell_type": "code",
   "execution_count": 6,
   "metadata": {},
   "outputs": [
    {
     "name": "stdout",
     "output_type": "stream",
     "text": [
      "Getting words from file\n",
      "Done!\n",
      "Getting vectors\n",
      "Done!\n",
      "Getting rels from file\n",
      "Done!\n",
      "Getting vectors\n",
      "Done!\n"
     ]
    }
   ],
   "source": [
    "words_vectors = get_words_vectors()\n",
    "rels_vectors = get_rels_vectors()"
   ]
  },
  {
   "cell_type": "code",
   "execution_count": 77,
   "metadata": {},
   "outputs": [],
   "source": [
    "SAMPLES_COUNT = 5\n",
    "\n",
    "def get_samples(data_rel):\n",
    "    samples = {}\n",
    "    for r in data_rel:\n",
    "        temp = np.random.choice(len(data_rel[r]), SAMPLES_COUNT)\n",
    "        samples[r] = [data_rel[r][i] for i in temp]\n",
    "    return samples\n",
    "\n",
    "wsamples = get_samples(wdata)\n",
    "nsamples = get_samples(ndata)"
   ]
  },
  {
   "cell_type": "code",
   "execution_count": 79,
   "metadata": {},
   "outputs": [
    {
     "data": {
      "image/png": "[encoded data removed]",
      "text/plain": [
       "<Figure size 432x288 with 1 Axes>"
      ]
     },
     "metadata": {},
     "output_type": "display_data"
    },
    {
     "data": {
      "image/png": "[encoded data removed]",
      "text/plain": [
       "<Figure size 432x288 with 1 Axes>"
      ]
     },
     "metadata": {},
     "output_type": "display_data"
    }
   ],
   "source": [
    "from sklearn.manifold import TSNE, Isomap\n",
    "\n",
    "\n",
    "REL = \"0\"\n",
    "csamples_w = np.asarray(wsamples[REL])\n",
    "csamples_n = np.asarray(nsamples[REL])\n",
    "\n",
    "temp_w = [s for s in csamples_w[:,0]] + [s for s in csamples_w[:,2]]\n",
    "temp_n = [s for s in csamples_n[:,0]] + [s for s in csamples_n[:,2]]\n",
    "words = np.asarray(temp_w+temp_n)\n",
    "vectors = [words_vectors[w][1] for w in words]\n",
    "V = Isomap().fit_transform(vectors)\n",
    "X,Y = V[:,0], V[:,1]\n",
    "labels = [words_vectors[w][0] for w in words]\n",
    "colors = ['b','b','g','g','r','r','c','c','m','m']\n",
    "plt.scatter(X[:10], Y[:10], c=colors)\n",
    "plt.show()\n",
    "plt.scatter(X[10:], Y[10:], c=colors)\n",
    "plt.show()"
   ]
  },
  {
   "cell_type": "code",
   "execution_count": null,
   "metadata": {},
   "outputs": [],
   "source": []
  }
 ],
 "metadata": {
  "kernelspec": {
   "display_name": "Python 3",
   "language": "python",
   "name": "python3"
  },
  "language_info": {
   "codemirror_mode": {
    "name": "ipython",
    "version": 3
   },
   "file_extension": ".py",
   "mimetype": "text/x-python",
   "name": "python",
   "nbconvert_exporter": "python",
   "pygments_lexer": "ipython3",
   "version": "3.6.5"
  }
 },
 "nbformat": 4,
 "nbformat_minor": 2
}
